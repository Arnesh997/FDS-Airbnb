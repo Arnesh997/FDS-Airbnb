{
 "cells": [
  {
   "cell_type": "code",
   "execution_count": 158,
   "metadata": {},
   "outputs": [],
   "source": [
    "# Imports\n",
    "import numpy as np\n",
    "import pandas as pd\n",
    "import os\n",
    "import seaborn as sns\n",
    "import matplotlib.pyplot as plt\n",
    "from bs4 import BeautifulSoup\n",
    "import folium\n",
    "import json\n",
    "import re\n",
    "from collections import Counter\n",
    "from scipy import stats\n"
   ]
  },
  {
   "cell_type": "code",
   "execution_count": 159,
   "metadata": {},
   "outputs": [],
   "source": [
    "# listings_filepath = '/Users/arneshsaha/Desktop/AirBnb/datasets/listings.csv'\n",
    "# listings_df = pd.read_csv(listings_filepath)\n"
   ]
  },
  {
   "cell_type": "code",
   "execution_count": 160,
   "metadata": {},
   "outputs": [],
   "source": [
    "listings_filepath = '/Users/abhayrakeshdeshmukhmaurya/Library/CloudStorage/OneDrive-UniversityofEdinburgh/CS/University/Year 2/Data Science/CW3/AirBnb/datasets/listings.csv'\n",
    "listings_df = pd.read_csv(listings_filepath)\n"
   ]
  },
  {
   "attachments": {},
   "cell_type": "markdown",
   "metadata": {},
   "source": [
    "Data Cleaning"
   ]
  },
  {
   "cell_type": "code",
   "execution_count": 161,
   "metadata": {},
   "outputs": [
    {
     "name": "stdout",
     "output_type": "stream",
     "text": [
      "<class 'pandas.core.frame.DataFrame'>\n",
      "Int64Index: 6711 entries, 0 to 6710\n",
      "Data columns (total 30 columns):\n",
      " #   Column                       Non-Null Count  Dtype  \n",
      "---  ------                       --------------  -----  \n",
      " 0   latitude                     6711 non-null   float64\n",
      " 1   longitude                    6711 non-null   float64\n",
      " 2   room_type                    6711 non-null   object \n",
      " 3   accommodates                 6711 non-null   int64  \n",
      " 4   price                        6711 non-null   float64\n",
      " 5   minimum_nights               6711 non-null   int64  \n",
      " 6   maximum_nights               6711 non-null   int64  \n",
      " 7   minimum_minimum_nights       6711 non-null   int64  \n",
      " 8   maximum_minimum_nights       6711 non-null   int64  \n",
      " 9   minimum_maximum_nights       6711 non-null   int64  \n",
      " 10  maximum_maximum_nights       6711 non-null   int64  \n",
      " 11  minimum_nights_avg_ntm       6711 non-null   float64\n",
      " 12  maximum_nights_avg_ntm       6711 non-null   float64\n",
      " 13  has_availability             6711 non-null   int64  \n",
      " 14  availability_30              6711 non-null   int64  \n",
      " 15  availability_60              6711 non-null   int64  \n",
      " 16  availability_90              6711 non-null   int64  \n",
      " 17  availability_365             6711 non-null   int64  \n",
      " 18  number_of_reviews            6711 non-null   int64  \n",
      " 19  number_of_reviews_ltm        6711 non-null   int64  \n",
      " 20  number_of_reviews_l30d       6711 non-null   int64  \n",
      " 21  review_scores_rating         6711 non-null   float64\n",
      " 22  review_scores_accuracy       6711 non-null   float64\n",
      " 23  review_scores_cleanliness    6711 non-null   float64\n",
      " 24  review_scores_checkin        6711 non-null   float64\n",
      " 25  review_scores_communication  6711 non-null   float64\n",
      " 26  review_scores_location       6711 non-null   float64\n",
      " 27  review_scores_value          6711 non-null   float64\n",
      " 28  instant_bookable             6711 non-null   int64  \n",
      " 29  Parking                      6711 non-null   int64  \n",
      "dtypes: float64(12), int64(17), object(1)\n",
      "memory usage: 1.6+ MB\n"
     ]
    }
   ],
   "source": [
    "columns = ['host_url', 'host_name', 'listing_url', 'scrape_id', 'last_scraped', 'source', 'calendar_updated', 'calendar_last_scraped', 'picture_url', 'neighbourhood_group_cleansed', 'license', 'host_location', 'first_review', 'last_review', 'host_thumbnail_url', 'host_picture_url', 'description', 'neighborhood_overview', 'host_since', 'host_about', 'host_neighbourhood', 'host_verifications', 'neighbourhood', 'reviews_per_month', 'bathrooms', 'bathrooms_text', 'neighbourhood_cleansed',  'host_response_time', 'property_type', 'id',\n",
    "           'host_id', 'host_response_rate', 'host_acceptance_rate', 'host_is_superhost', 'host_listings_count',\n",
    "           'host_total_listings_count', 'host_has_profile_pic', 'host_identity_verified', 'bedrooms', 'beds', 'calculated_host_listings_count', 'calculated_host_listings_count_entire_homes', 'calculated_host_listings_count_private_rooms', \"calculated_host_listings_count_shared_rooms\"]\n",
    "listings_df.drop(columns=columns, inplace=True)\n",
    "\n",
    "# listings_df.dropna(subset=['bedrooms', 'review_scores_cleanliness',\n",
    "#                    \"beds\"], inplace=True)\n",
    "\n",
    "# Converting columns with (True, False) to (1, 0)\n",
    "replace_dict = {'instant_bookable': {'t': 1, 'f': 0},\n",
    "                'has_availability': {'t': 1, 'f': 0}\n",
    "                }\n",
    "listings_df = listings_df.replace(replace_dict)\n",
    "\n",
    "# Creating parking column and assigning the rows with parking feature\n",
    "parking_rows = listings_df[(listings_df['name'].str.contains('parking', case=False)) |\n",
    "                           (listings_df['amenities'].apply(lambda x: 'parking' in x))]\n",
    "\n",
    "listings_df['Parking'] = 0\n",
    "listings_df.loc[parking_rows.index, 'Parking'] = 1\n",
    "\n",
    "# Creating room_type_num column to store unique types in room_type\n",
    "room_type_labels, room_type_unique = pd.factorize(listings_df['room_type'])\n",
    "listings_df['room_type_num'] = room_type_labels\n",
    "\n",
    "# Removing dollar sign from price\n",
    "listings_df['price'] = listings_df['price'].str.replace(\n",
    "    ',', '', regex=True).str.replace('$', '', regex=True).astype('float')\n",
    "\n",
    "# drop further columns\n",
    "columns = ['name', 'amenities', 'room_type_num']\n",
    "listings_df.drop(columns=columns, inplace=True)\n",
    "\n",
    "# Droping NaN\n",
    "listings_df.dropna(axis=0, inplace=True)\n",
    "\n",
    "# Resetting index to have sequential index\n",
    "\n",
    "listings_df = listings_df.reset_index().sort_values(by='index')\n",
    "listings_df = listings_df.drop(columns=['index'])\n",
    "listings_df.info()\n"
   ]
  },
  {
   "cell_type": "code",
   "execution_count": 162,
   "metadata": {},
   "outputs": [
    {
     "name": "stdout",
     "output_type": "stream",
     "text": [
      "Original Shape: (6711, 30)\n",
      "Filtered Shape: (6617, 30)\n"
     ]
    }
   ],
   "source": [
    "print(\"Original Shape:\", listings_df.shape)\n",
    "z_scores = np.abs(stats.zscore(listings_df['price']))\n",
    "\n",
    "# Define a threshold for outlier removal (e.g., Z-score > 3)\n",
    "threshold = 0.8\n",
    "\n",
    "# Filter the dataframe to remove outliers\n",
    "listings_df = listings_df[z_scores < threshold]\n",
    "\n",
    "# Print the shape of the filtered dataframe\n",
    "\n",
    "print(\"Filtered Shape:\",   listings_df.shape)"
   ]
  },
  {
   "cell_type": "code",
   "execution_count": 163,
   "metadata": {},
   "outputs": [],
   "source": [
    "\n",
    "\n"
   ]
  },
  {
   "cell_type": "code",
   "execution_count": null,
   "metadata": {},
   "outputs": [],
   "source": []
  },
  {
   "cell_type": "code",
   "execution_count": null,
   "metadata": {},
   "outputs": [],
   "source": [
    "\n"
   ]
  },
  {
   "cell_type": "code",
   "execution_count": null,
   "metadata": {},
   "outputs": [],
   "source": []
  }
 ],
 "metadata": {
  "kernelspec": {
   "display_name": "FDS",
   "language": "python",
   "name": "python3"
  },
  "language_info": {
   "codemirror_mode": {
    "name": "ipython",
    "version": 3
   },
   "file_extension": ".py",
   "mimetype": "text/x-python",
   "name": "python",
   "nbconvert_exporter": "python",
   "pygments_lexer": "ipython3",
   "version": "3.10.9"
  },
  "orig_nbformat": 4
 },
 "nbformat": 4,
 "nbformat_minor": 2
}
